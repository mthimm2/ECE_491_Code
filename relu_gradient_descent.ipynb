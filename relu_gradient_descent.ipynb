{
 "cells": [
  {
   "cell_type": "code",
   "execution_count": 1,
   "metadata": {},
   "outputs": [],
   "source": [
    "import numpy as np\n",
    "import matplotlib.pyplot as plt"
   ]
  },
  {
   "cell_type": "code",
   "execution_count": 2,
   "metadata": {},
   "outputs": [
    {
     "name": "stdout",
     "output_type": "stream",
     "text": [
      "(3,)\n"
     ]
    }
   ],
   "source": [
    "# Data points from the prompt\n",
    "data_points_extended = np.array([\n",
    "    [1, -1, -1],\n",
    "    [-1, -1, -1],\n",
    "    [0, -1, -1],\n",
    "    [1, 1, -1],\n",
    "    [1, 2, -1],\n",
    "    [2, 1, -1],\n",
    "    [2, 2, -1]\n",
    "])\n",
    "\n",
    "# Desired values of the labels, based on Relu\n",
    "desired_values = np.array([\n",
    "    [1],\n",
    "    [0],\n",
    "    [0],\n",
    "    [1],\n",
    "    [1],\n",
    "    [1],\n",
    "    [1]\n",
    "])\n",
    "\n",
    "# Initial weights that don't properly separate the two classes\n",
    "weights = np.array([0.5, -0.5, 1])\n",
    "print(weights.shape)\n",
    "\n",
    "# Step size or scaling factor\n",
    "nu = 1"
   ]
  },
  {
   "cell_type": "code",
   "execution_count": 3,
   "metadata": {},
   "outputs": [
    {
     "name": "stdout",
     "output_type": "stream",
     "text": [
      "-------Epoch 1-------\n",
      "Weights = [ 0.5 -0.5  1. ], X = [ 1 -1 -1], Dot Product = 0.0\n",
      "[ 1.5 -1.5  0. ]\n",
      "Weights = [ 1.5 -1.5  0. ], X = [-1 -1 -1], Dot Product = 0.0\n",
      "[ 1.5 -1.5  0. ]\n",
      "Weights = [ 1.5 -1.5  0. ], X = [ 0 -1 -1], Dot Product = 1.5\n",
      "[ 1.5 -0.5  1. ]\n",
      "Weights = [ 1.5 -0.5  1. ], X = [ 1  1 -1], Dot Product = 0.0\n",
      "[2.5 0.5 0. ]\n",
      "Weights = [2.5 0.5 0. ], X = [ 1  2 -1], Dot Product = 3.5\n",
      "[2.5 0.5 0. ]\n",
      "Weights = [2.5 0.5 0. ], X = [ 2  1 -1], Dot Product = 5.5\n",
      "[2.5 0.5 0. ]\n",
      "Weights = [2.5 0.5 0. ], X = [ 2  2 -1], Dot Product = 6.0\n",
      "[2.5 0.5 0. ]\n",
      "-------Epoch 2-------\n",
      "Weights = [2.5 0.5 0. ], X = [ 1 -1 -1], Dot Product = 2.0\n",
      "[2.5 0.5 0. ]\n",
      "Weights = [2.5 0.5 0. ], X = [-1 -1 -1], Dot Product = -3.0\n",
      "[2.5 0.5 0. ]\n",
      "Weights = [2.5 0.5 0. ], X = [ 0 -1 -1], Dot Product = -0.5\n",
      "[2.5 0.5 0. ]\n",
      "Weights = [2.5 0.5 0. ], X = [ 1  1 -1], Dot Product = 3.0\n",
      "[2.5 0.5 0. ]\n",
      "Weights = [2.5 0.5 0. ], X = [ 1  2 -1], Dot Product = 3.5\n",
      "[2.5 0.5 0. ]\n",
      "Weights = [2.5 0.5 0. ], X = [ 2  1 -1], Dot Product = 5.5\n",
      "[2.5 0.5 0. ]\n",
      "Weights = [2.5 0.5 0. ], X = [ 2  2 -1], Dot Product = 6.0\n",
      "[2.5 0.5 0. ]\n"
     ]
    }
   ],
   "source": [
    "# Gradient calculation lambda function\n",
    "grad_desc = lambda d_val, x_entry, guess : (guess - d_val) * (1 if guess >= 0 else 0) * x_entry\n",
    "\n",
    "# Relu lambda function\n",
    "# Simplified to 1 for inp > 0 for the sake of looping logic\n",
    "relu = lambda inp : 1 if inp > 0 else 0\n",
    "\n",
    "epoch = 1\n",
    "\n",
    "# We're gonna keep looping until we don't miss a data point during training\n",
    "while(True):\n",
    "\n",
    "    # Flag var\n",
    "    num_misses = 0\n",
    "\n",
    "    print(f'-------Epoch {epoch}-------')\n",
    "\n",
    "    # Go over each data point\n",
    "    for point, d in zip(data_points_extended, desired_values):\n",
    "\n",
    "        # The guess\n",
    "        sum = weights.transpose().dot(point)\n",
    "\n",
    "        print(f'Weights = {weights}, X = {point}, Dot Product = {sum}')\n",
    "\n",
    "        # Guess based on the relu non-linearity\n",
    "        guess = relu(sum)\n",
    "\n",
    "        # If the guess doesn't equal the desired value, we missed\n",
    "        if guess != d:\n",
    "            num_misses += 1\n",
    "\n",
    "        # Gradient calculated from the current guess\n",
    "        gradient = np.array([\n",
    "            grad_desc(d, point[0], guess),\n",
    "            grad_desc(d, point[1], guess),\n",
    "            grad_desc(d, point[2], guess)\n",
    "        ])\n",
    "\n",
    "        # Gradient was being weird, so I'm reshaping it\n",
    "        gradient = gradient.reshape((3,))\n",
    "\n",
    "        # Update the weights based on the gradient\n",
    "        weights = weights - (nu * gradient)\n",
    "\n",
    "        print(weights)\n",
    "\n",
    "    # Once we haven't missed, stop\n",
    "    if num_misses == 0:\n",
    "        break\n",
    "\n",
    "    # Increment the epoch\n",
    "    epoch += 1"
   ]
  },
  {
   "cell_type": "code",
   "execution_count": 4,
   "metadata": {},
   "outputs": [
    {
     "name": "stdout",
     "output_type": "stream",
     "text": [
      "Final weights = [2.5 0.5 0. ]\n",
      "4.5\n",
      "1\n"
     ]
    }
   ],
   "source": [
    "# Final weights\n",
    "print(f'Final weights = {weights}')\n",
    "\n",
    "# Last data point to assess\n",
    "final_point = np.array([1.5, 1.5, -1])\n",
    "\n",
    "# Last guess\n",
    "final_guess = weights.transpose().dot(final_point)\n",
    "print(final_guess)\n",
    "\n",
    "# The classification of the last point\n",
    "print(relu(final_guess))"
   ]
  }
 ],
 "metadata": {
  "interpreter": {
   "hash": "a96245b3e15f7bbfaf6ca5b0b72dcce624813f819242615af9a4ae934797b4d7"
  },
  "kernelspec": {
   "display_name": "Python 3.9.7 ('tfconda')",
   "language": "python",
   "name": "python3"
  },
  "language_info": {
   "codemirror_mode": {
    "name": "ipython",
    "version": 3
   },
   "file_extension": ".py",
   "mimetype": "text/x-python",
   "name": "python",
   "nbconvert_exporter": "python",
   "pygments_lexer": "ipython3",
   "version": "3.9.7"
  },
  "orig_nbformat": 4
 },
 "nbformat": 4,
 "nbformat_minor": 2
}
