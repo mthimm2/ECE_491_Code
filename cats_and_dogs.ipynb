{
 "cells": [
  {
   "cell_type": "code",
   "execution_count": null,
   "metadata": {},
   "outputs": [],
   "source": [
    "import tensorflow as tf\n",
    "from tensorflow import keras\n",
    "from keras.preprocessing.image import image_dataset_from_directory, img_to_array\n",
    "import numpy as np\n",
    "import matplotlib.pyplot as plt\n",
    "import os\n",
    "\n",
    "physical_devices = tf.config.list_physical_devices('GPU')\n",
    "tf.config.experimental.set_memory_growth(physical_devices[0], True)"
   ]
  },
  {
   "cell_type": "code",
   "execution_count": null,
   "metadata": {},
   "outputs": [],
   "source": [
    "# Datapath of the training data\n",
    "TRAIN_DIR = os.path.join(os.getcwd(), 'train')\n",
    "TEST_DIR = os.path.join(os.getcwd(), 'test')\n",
    "IMAGE_HEIGHT = 128\n",
    "IMAGE_WIDTH = 128\n",
    "\n",
    "#policy = tf.keras.mixed_precision.Policy('mixed_float16')\n",
    "#tf.keras.mixed_precision.set_global_policy(policy)\n",
    "\n",
    "# Keras has a built in function that can make a tf dataset out of a directory\n",
    "# The directory should contain subdirectories, each of which contains only one class of images\n",
    "# The name of these subdirectories will be used as the labels\n",
    "train_set = image_dataset_from_directory(TRAIN_DIR, labels = 'inferred', color_mode = 'grayscale', batch_size = 512, image_size = (IMAGE_WIDTH, IMAGE_HEIGHT), shuffle = True)\n",
    "\n",
    "# No labels needed from the test set, so we can simply load up the test directory as an unlabeled dataset\n",
    "test_set = image_dataset_from_directory(TEST_DIR, labels = 'inferred', color_mode = 'grayscale', batch_size = 512, image_size = (IMAGE_WIDTH, IMAGE_HEIGHT), shuffle = False)"
   ]
  },
  {
   "cell_type": "code",
   "execution_count": null,
   "metadata": {},
   "outputs": [],
   "source": [
    "# Now we need to create a model to train with the training dataset\n",
    "model = tf.keras.models.Sequential([\n",
    "\n",
    "    tf.keras.layers.InputLayer(input_shape = (IMAGE_WIDTH, IMAGE_HEIGHT, 1)),\n",
    "    tf.keras.layers.Rescaling(1.0 / 255),\n",
    "    tf.keras.layers.Conv2D(32, kernel_size = (3, 3), strides = 2, activation = 'relu'),\n",
    "    tf.keras.layers.Conv2D(32, kernel_size = (5, 5), strides = 3, activation = 'relu'),\n",
    "    tf.keras.layers.BatchNormalization(),\n",
    "    tf.keras.layers.Conv2D(16, kernel_size = (2, 2), strides = 1, activation = 'relu'),\n",
    "    tf.keras.layers.MaxPooling2D(pool_size = (2, 2)),\n",
    "    tf.keras.layers.BatchNormalization(),\n",
    "    tf.keras.layers.Conv2D(64, kernel_size = (4, 4), strides = 5),\n",
    "    tf.keras.layers.Flatten(),\n",
    "    tf.keras.layers.Dense(256, activation = 'relu'),\n",
    "    tf.keras.layers.Dense(64, activation = 'relu'),\n",
    "    tf.keras.layers.Dense(2)\n",
    "\n",
    "])\n",
    "\n",
    "model.compile(\n",
    "    loss=tf.keras.losses.SparseCategoricalCrossentropy(from_logits = True),\n",
    "    optimizer = tf.keras.optimizers.Adadelta(learning_rate = 1.0),\n",
    "    metrics = ['accuracy']\n",
    ")\n",
    "\n",
    "model.summary()"
   ]
  },
  {
   "cell_type": "code",
   "execution_count": null,
   "metadata": {},
   "outputs": [],
   "source": [
    "model.fit(\n",
    "    train_set,\n",
    "    epochs = 64,\n",
    "    verbose = 1,\n",
    ")"
   ]
  },
  {
   "cell_type": "code",
   "execution_count": null,
   "metadata": {},
   "outputs": [],
   "source": [
    "model.evaluate(\n",
    "    test_set,\n",
    "    verbose = 1\n",
    ")"
   ]
  }
 ],
 "metadata": {
  "interpreter": {
   "hash": "2337929449f3641b495c37b61f85cc45b96c04e1a5018593c4b3b9941d37b509"
  },
  "kernelspec": {
   "display_name": "Python 3.9.7 ('tensorflow')",
   "language": "python",
   "name": "python3"
  },
  "language_info": {
   "codemirror_mode": {
    "name": "ipython",
    "version": 3
   },
   "file_extension": ".py",
   "mimetype": "text/x-python",
   "name": "python",
   "nbconvert_exporter": "python",
   "pygments_lexer": "ipython3",
   "version": "3.9.7"
  },
  "orig_nbformat": 4
 },
 "nbformat": 4,
 "nbformat_minor": 2
}
